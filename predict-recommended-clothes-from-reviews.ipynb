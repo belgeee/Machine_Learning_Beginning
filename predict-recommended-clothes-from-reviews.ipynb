{
 "cells": [
  {
   "cell_type": "code",
   "execution_count": 14,
   "metadata": {
    "_cell_guid": "b1076dfc-b9ad-4769-8c92-a6c4dae69d19",
    "_uuid": "8f2839f25d086af736a60e9eeb907d3b93b6e0e5",
    "execution": {
     "iopub.execute_input": "2023-07-14T14:23:44.961281Z",
     "iopub.status.busy": "2023-07-14T14:23:44.960917Z",
     "iopub.status.idle": "2023-07-14T14:23:44.970669Z",
     "shell.execute_reply": "2023-07-14T14:23:44.969576Z",
     "shell.execute_reply.started": "2023-07-14T14:23:44.961249Z"
    }
   },
   "outputs": [],
   "source": [
    "# This Python 3 environment comes with many helpful analytics libraries installed\n",
    "# It is defined by the kaggle/python Docker image: https://github.com/kaggle/docker-python\n",
    "# For example, here's several helpful packages to load\n",
    "\n",
    "import numpy as np # linear algebra\n",
    "import pandas as pd # data processing, CSV file I/O (e.g. pd.read_csv)\n",
    "\n",
    "# Input data files are available in the read-only \"../input/\" directory\n",
    "# For example, running this (by clicking run or pressing Shift+Enter) will list all files under the input directory\n",
    "\n",
    "import os\n",
    "for dirname, _, filenames in os.walk('/kaggle/input'):\n",
    "    for filename in filenames:\n",
    "        print(os.path.join(dirname, filename))\n",
    "\n",
    "# You can write up to 20GB to the current directory (/kaggle/working/) that gets preserved as output when you create a version using \"Save & Run All\" \n",
    "# You can also write temporary files to /kaggle/temp/, but they won't be saved outside of the current session"
   ]
  },
  {
   "cell_type": "code",
   "execution_count": 15,
   "metadata": {
    "execution": {
     "iopub.execute_input": "2023-07-14T14:23:44.972724Z",
     "iopub.status.busy": "2023-07-14T14:23:44.972337Z",
     "iopub.status.idle": "2023-07-14T14:23:45.112443Z",
     "shell.execute_reply": "2023-07-14T14:23:45.111383Z",
     "shell.execute_reply.started": "2023-07-14T14:23:44.972681Z"
    }
   },
   "outputs": [
    {
     "name": "stdout",
     "output_type": "stream",
     "text": [
      "<class 'pandas.core.frame.DataFrame'>\n",
      "RangeIndex: 23486 entries, 0 to 23485\n",
      "Data columns (total 11 columns):\n",
      " #   Column                   Non-Null Count  Dtype \n",
      "---  ------                   --------------  ----- \n",
      " 0   Unnamed: 0               23486 non-null  int64 \n",
      " 1   Clothing ID              23486 non-null  int64 \n",
      " 2   Age                      23486 non-null  int64 \n",
      " 3   Title                    19676 non-null  object\n",
      " 4   Review Text              22641 non-null  object\n",
      " 5   Rating                   23486 non-null  int64 \n",
      " 6   Recommended IND          23486 non-null  int64 \n",
      " 7   Positive Feedback Count  23486 non-null  int64 \n",
      " 8   Division Name            23472 non-null  object\n",
      " 9   Department Name          23472 non-null  object\n",
      " 10  Class Name               23472 non-null  object\n",
      "dtypes: int64(6), object(5)\n",
      "memory usage: 2.0+ MB\n"
     ]
    }
   ],
   "source": [
    "# Read Womens Clothing E-Commerce Reviews.csv:\n",
    "import pandas as pd\n",
    "df = pd.read_csv('./Womens Clothing E-Commerce Reviews.csv')\n",
    "df.info()"
   ]
  },
  {
   "cell_type": "code",
   "execution_count": 16,
   "metadata": {},
   "outputs": [
    {
     "data": {
      "text/html": [
       "<div>\n",
       "<style scoped>\n",
       "    .dataframe tbody tr th:only-of-type {\n",
       "        vertical-align: middle;\n",
       "    }\n",
       "\n",
       "    .dataframe tbody tr th {\n",
       "        vertical-align: top;\n",
       "    }\n",
       "\n",
       "    .dataframe thead th {\n",
       "        text-align: right;\n",
       "    }\n",
       "</style>\n",
       "<table border=\"1\" class=\"dataframe\">\n",
       "  <thead>\n",
       "    <tr style=\"text-align: right;\">\n",
       "      <th></th>\n",
       "      <th>Unnamed: 0</th>\n",
       "      <th>Clothing ID</th>\n",
       "      <th>Age</th>\n",
       "      <th>Title</th>\n",
       "      <th>Review Text</th>\n",
       "      <th>Rating</th>\n",
       "      <th>Recommended IND</th>\n",
       "      <th>Positive Feedback Count</th>\n",
       "      <th>Division Name</th>\n",
       "      <th>Department Name</th>\n",
       "      <th>Class Name</th>\n",
       "    </tr>\n",
       "  </thead>\n",
       "  <tbody>\n",
       "    <tr>\n",
       "      <th>0</th>\n",
       "      <td>0</td>\n",
       "      <td>767</td>\n",
       "      <td>33</td>\n",
       "      <td>NaN</td>\n",
       "      <td>Absolutely wonderful - silky and sexy and comf...</td>\n",
       "      <td>4</td>\n",
       "      <td>1</td>\n",
       "      <td>0</td>\n",
       "      <td>Initmates</td>\n",
       "      <td>Intimate</td>\n",
       "      <td>Intimates</td>\n",
       "    </tr>\n",
       "    <tr>\n",
       "      <th>1</th>\n",
       "      <td>1</td>\n",
       "      <td>1080</td>\n",
       "      <td>34</td>\n",
       "      <td>NaN</td>\n",
       "      <td>Love this dress!  it's sooo pretty.  i happene...</td>\n",
       "      <td>5</td>\n",
       "      <td>1</td>\n",
       "      <td>4</td>\n",
       "      <td>General</td>\n",
       "      <td>Dresses</td>\n",
       "      <td>Dresses</td>\n",
       "    </tr>\n",
       "    <tr>\n",
       "      <th>2</th>\n",
       "      <td>2</td>\n",
       "      <td>1077</td>\n",
       "      <td>60</td>\n",
       "      <td>Some major design flaws</td>\n",
       "      <td>I had such high hopes for this dress and reall...</td>\n",
       "      <td>3</td>\n",
       "      <td>0</td>\n",
       "      <td>0</td>\n",
       "      <td>General</td>\n",
       "      <td>Dresses</td>\n",
       "      <td>Dresses</td>\n",
       "    </tr>\n",
       "    <tr>\n",
       "      <th>3</th>\n",
       "      <td>3</td>\n",
       "      <td>1049</td>\n",
       "      <td>50</td>\n",
       "      <td>My favorite buy!</td>\n",
       "      <td>I love, love, love this jumpsuit. it's fun, fl...</td>\n",
       "      <td>5</td>\n",
       "      <td>1</td>\n",
       "      <td>0</td>\n",
       "      <td>General Petite</td>\n",
       "      <td>Bottoms</td>\n",
       "      <td>Pants</td>\n",
       "    </tr>\n",
       "    <tr>\n",
       "      <th>4</th>\n",
       "      <td>4</td>\n",
       "      <td>847</td>\n",
       "      <td>47</td>\n",
       "      <td>Flattering shirt</td>\n",
       "      <td>This shirt is very flattering to all due to th...</td>\n",
       "      <td>5</td>\n",
       "      <td>1</td>\n",
       "      <td>6</td>\n",
       "      <td>General</td>\n",
       "      <td>Tops</td>\n",
       "      <td>Blouses</td>\n",
       "    </tr>\n",
       "  </tbody>\n",
       "</table>\n",
       "</div>"
      ],
      "text/plain": [
       "   Unnamed: 0  Clothing ID  Age                    Title  \\\n",
       "0           0          767   33                      NaN   \n",
       "1           1         1080   34                      NaN   \n",
       "2           2         1077   60  Some major design flaws   \n",
       "3           3         1049   50         My favorite buy!   \n",
       "4           4          847   47         Flattering shirt   \n",
       "\n",
       "                                         Review Text  Rating  Recommended IND  \\\n",
       "0  Absolutely wonderful - silky and sexy and comf...       4                1   \n",
       "1  Love this dress!  it's sooo pretty.  i happene...       5                1   \n",
       "2  I had such high hopes for this dress and reall...       3                0   \n",
       "3  I love, love, love this jumpsuit. it's fun, fl...       5                1   \n",
       "4  This shirt is very flattering to all due to th...       5                1   \n",
       "\n",
       "   Positive Feedback Count   Division Name Department Name Class Name  \n",
       "0                        0       Initmates        Intimate  Intimates  \n",
       "1                        4         General         Dresses    Dresses  \n",
       "2                        0         General         Dresses    Dresses  \n",
       "3                        0  General Petite         Bottoms      Pants  \n",
       "4                        6         General            Tops    Blouses  "
      ]
     },
     "execution_count": 16,
     "metadata": {},
     "output_type": "execute_result"
    }
   ],
   "source": [
    "df.head()\n"
   ]
  },
  {
   "cell_type": "code",
   "execution_count": 17,
   "metadata": {
    "execution": {
     "iopub.execute_input": "2023-07-14T14:23:45.115217Z",
     "iopub.status.busy": "2023-07-14T14:23:45.114560Z",
     "iopub.status.idle": "2023-07-14T14:23:45.140186Z",
     "shell.execute_reply": "2023-07-14T14:23:45.139380Z",
     "shell.execute_reply.started": "2023-07-14T14:23:45.115171Z"
    }
   },
   "outputs": [
    {
     "data": {
      "text/html": [
       "<div>\n",
       "<style scoped>\n",
       "    .dataframe tbody tr th:only-of-type {\n",
       "        vertical-align: middle;\n",
       "    }\n",
       "\n",
       "    .dataframe tbody tr th {\n",
       "        vertical-align: top;\n",
       "    }\n",
       "\n",
       "    .dataframe thead th {\n",
       "        text-align: right;\n",
       "    }\n",
       "</style>\n",
       "<table border=\"1\" class=\"dataframe\">\n",
       "  <thead>\n",
       "    <tr style=\"text-align: right;\">\n",
       "      <th></th>\n",
       "      <th>Review Text</th>\n",
       "      <th>Recommended IND</th>\n",
       "    </tr>\n",
       "  </thead>\n",
       "  <tbody>\n",
       "    <tr>\n",
       "      <th>0</th>\n",
       "      <td>Absolutely wonderful - silky and sexy and comf...</td>\n",
       "      <td>1</td>\n",
       "    </tr>\n",
       "    <tr>\n",
       "      <th>1</th>\n",
       "      <td>Love this dress!  it's sooo pretty.  i happene...</td>\n",
       "      <td>1</td>\n",
       "    </tr>\n",
       "    <tr>\n",
       "      <th>2</th>\n",
       "      <td>I had such high hopes for this dress and reall...</td>\n",
       "      <td>0</td>\n",
       "    </tr>\n",
       "    <tr>\n",
       "      <th>3</th>\n",
       "      <td>I love, love, love this jumpsuit. it's fun, fl...</td>\n",
       "      <td>1</td>\n",
       "    </tr>\n",
       "    <tr>\n",
       "      <th>4</th>\n",
       "      <td>This shirt is very flattering to all due to th...</td>\n",
       "      <td>1</td>\n",
       "    </tr>\n",
       "    <tr>\n",
       "      <th>...</th>\n",
       "      <td>...</td>\n",
       "      <td>...</td>\n",
       "    </tr>\n",
       "    <tr>\n",
       "      <th>23481</th>\n",
       "      <td>I was very happy to snag this dress at such a ...</td>\n",
       "      <td>1</td>\n",
       "    </tr>\n",
       "    <tr>\n",
       "      <th>23482</th>\n",
       "      <td>It reminds me of maternity clothes. soft, stre...</td>\n",
       "      <td>1</td>\n",
       "    </tr>\n",
       "    <tr>\n",
       "      <th>23483</th>\n",
       "      <td>This fit well, but the top was very see throug...</td>\n",
       "      <td>0</td>\n",
       "    </tr>\n",
       "    <tr>\n",
       "      <th>23484</th>\n",
       "      <td>I bought this dress for a wedding i have this ...</td>\n",
       "      <td>1</td>\n",
       "    </tr>\n",
       "    <tr>\n",
       "      <th>23485</th>\n",
       "      <td>This dress in a lovely platinum is feminine an...</td>\n",
       "      <td>1</td>\n",
       "    </tr>\n",
       "  </tbody>\n",
       "</table>\n",
       "<p>22641 rows × 2 columns</p>\n",
       "</div>"
      ],
      "text/plain": [
       "                                             Review Text  Recommended IND\n",
       "0      Absolutely wonderful - silky and sexy and comf...                1\n",
       "1      Love this dress!  it's sooo pretty.  i happene...                1\n",
       "2      I had such high hopes for this dress and reall...                0\n",
       "3      I love, love, love this jumpsuit. it's fun, fl...                1\n",
       "4      This shirt is very flattering to all due to th...                1\n",
       "...                                                  ...              ...\n",
       "23481  I was very happy to snag this dress at such a ...                1\n",
       "23482  It reminds me of maternity clothes. soft, stre...                1\n",
       "23483  This fit well, but the top was very see throug...                0\n",
       "23484  I bought this dress for a wedding i have this ...                1\n",
       "23485  This dress in a lovely platinum is feminine an...                1\n",
       "\n",
       "[22641 rows x 2 columns]"
      ]
     },
     "execution_count": 17,
     "metadata": {},
     "output_type": "execute_result"
    }
   ],
   "source": [
    "# Only take the review and recommendation column\n",
    "df = df.drop(df.columns[[0, 1, 2, 3, 5, 7, 8, 9, 10]], axis=1)\n",
    "df = df.dropna()\n",
    "df"
   ]
  },
  {
   "cell_type": "markdown",
   "metadata": {},
   "source": [
    "Review Text: reviews of women's clothes. Recommended Id: 1 means Recommended, 0 means Not Recommended"
   ]
  },
  {
   "cell_type": "code",
   "execution_count": 18,
   "metadata": {},
   "outputs": [
    {
     "data": {
      "text/html": [
       "<div>\n",
       "<style scoped>\n",
       "    .dataframe tbody tr th:only-of-type {\n",
       "        vertical-align: middle;\n",
       "    }\n",
       "\n",
       "    .dataframe tbody tr th {\n",
       "        vertical-align: top;\n",
       "    }\n",
       "\n",
       "    .dataframe thead th {\n",
       "        text-align: right;\n",
       "    }\n",
       "</style>\n",
       "<table border=\"1\" class=\"dataframe\">\n",
       "  <thead>\n",
       "    <tr style=\"text-align: right;\">\n",
       "      <th></th>\n",
       "      <th>Review Text</th>\n",
       "      <th>Recommended IND</th>\n",
       "    </tr>\n",
       "  </thead>\n",
       "  <tbody>\n",
       "    <tr>\n",
       "      <th>0</th>\n",
       "      <td>Absolutely wonderful - silky and sexy and comf...</td>\n",
       "      <td>1</td>\n",
       "    </tr>\n",
       "    <tr>\n",
       "      <th>1</th>\n",
       "      <td>Love this dress!  it's sooo pretty.  i happene...</td>\n",
       "      <td>1</td>\n",
       "    </tr>\n",
       "    <tr>\n",
       "      <th>2</th>\n",
       "      <td>I had such high hopes for this dress and reall...</td>\n",
       "      <td>0</td>\n",
       "    </tr>\n",
       "    <tr>\n",
       "      <th>3</th>\n",
       "      <td>I love, love, love this jumpsuit. it's fun, fl...</td>\n",
       "      <td>1</td>\n",
       "    </tr>\n",
       "    <tr>\n",
       "      <th>4</th>\n",
       "      <td>This shirt is very flattering to all due to th...</td>\n",
       "      <td>1</td>\n",
       "    </tr>\n",
       "  </tbody>\n",
       "</table>\n",
       "</div>"
      ],
      "text/plain": [
       "                                         Review Text  Recommended IND\n",
       "0  Absolutely wonderful - silky and sexy and comf...                1\n",
       "1  Love this dress!  it's sooo pretty.  i happene...                1\n",
       "2  I had such high hopes for this dress and reall...                0\n",
       "3  I love, love, love this jumpsuit. it's fun, fl...                1\n",
       "4  This shirt is very flattering to all due to th...                1"
      ]
     },
     "execution_count": 18,
     "metadata": {},
     "output_type": "execute_result"
    }
   ],
   "source": [
    "df.head()\n"
   ]
  },
  {
   "cell_type": "code",
   "execution_count": 19,
   "metadata": {
    "execution": {
     "iopub.execute_input": "2023-07-14T14:23:45.142196Z",
     "iopub.status.busy": "2023-07-14T14:23:45.141835Z",
     "iopub.status.idle": "2023-07-14T14:23:45.150302Z",
     "shell.execute_reply": "2023-07-14T14:23:45.149159Z",
     "shell.execute_reply.started": "2023-07-14T14:23:45.142159Z"
    }
   },
   "outputs": [],
   "source": [
    "# Split data into train data and test data\n",
    "from sklearn.model_selection import train_test_split\n",
    "review = df['Review Text'].values\n",
    "recommendation = df['Recommended IND'].values\n",
    "review_train, review_test, recommendation_train, recommendation_test = train_test_split(review, recommendation, test_size=0.25)"
   ]
  },
  {
   "cell_type": "code",
   "execution_count": 20,
   "metadata": {},
   "outputs": [
    {
     "data": {
      "text/plain": [
       "(5661,)"
      ]
     },
     "execution_count": 20,
     "metadata": {},
     "output_type": "execute_result"
    }
   ],
   "source": [
    "review_test.shape"
   ]
  },
  {
   "cell_type": "code",
   "execution_count": 21,
   "metadata": {
    "execution": {
     "iopub.execute_input": "2023-07-14T14:23:45.152601Z",
     "iopub.status.busy": "2023-07-14T14:23:45.152106Z",
     "iopub.status.idle": "2023-07-14T14:23:47.880851Z",
     "shell.execute_reply": "2023-07-14T14:23:47.879891Z",
     "shell.execute_reply.started": "2023-07-14T14:23:45.152485Z"
    }
   },
   "outputs": [],
   "source": [
    "# Tokenization of review texts\n",
    "from tensorflow.keras.preprocessing.text import Tokenizer\n",
    "from tensorflow.keras.preprocessing.sequence import pad_sequences\n",
    " \n",
    "tokenizer = Tokenizer(num_words=50000, oov_token='x')\n",
    "tokenizer.fit_on_texts(review_train) \n",
    "tokenizer.fit_on_texts(review_test)\n",
    " \n",
    "sequence_train = tokenizer.texts_to_sequences(review_train)\n",
    "sequence_test = tokenizer.texts_to_sequences(review_test)\n",
    "\n",
    "padded_train = pad_sequences(sequence_train) \n",
    "padded_test = pad_sequences(sequence_test)"
   ]
  },
  {
   "cell_type": "code",
   "execution_count": 22,
   "metadata": {
    "execution": {
     "iopub.execute_input": "2023-07-14T14:23:47.884614Z",
     "iopub.status.busy": "2023-07-14T14:23:47.884269Z",
     "iopub.status.idle": "2023-07-14T14:23:48.586994Z",
     "shell.execute_reply": "2023-07-14T14:23:48.586068Z",
     "shell.execute_reply.started": "2023-07-14T14:23:47.884581Z"
    }
   },
   "outputs": [],
   "source": [
    "# Neural network model with a sequential model\n",
    "import tensorflow as tf\n",
    "model = tf.keras.Sequential([\n",
    "    tf.keras.layers.Embedding(input_dim=50000, output_dim=128),\n",
    "    tf.keras.layers.LSTM(64),\n",
    "    tf.keras.layers.Dense(32, activation='relu'),\n",
    "    tf.keras.layers.Dense(1, activation='sigmoid')\n",
    "])\n",
    "model.compile(loss='binary_crossentropy',optimizer='adam',metrics=['accuracy'])"
   ]
  },
  {
   "cell_type": "code",
   "execution_count": null,
   "metadata": {
    "execution": {
     "iopub.execute_input": "2023-07-14T14:23:48.589613Z",
     "iopub.status.busy": "2023-07-14T14:23:48.589213Z",
     "iopub.status.idle": "2023-07-14T14:26:23.084839Z",
     "shell.execute_reply": "2023-07-14T14:26:23.083938Z",
     "shell.execute_reply.started": "2023-07-14T14:23:48.589574Z"
    }
   },
   "outputs": [
    {
     "name": "stdout",
     "output_type": "stream",
     "text": [
      "Epoch 1/5\n",
      "531/531 - 25s - loss: 0.3138 - accuracy: 0.8654 - val_loss: 0.2548 - val_accuracy: 0.8928 - 25s/epoch - 48ms/step\n",
      "Epoch 2/5\n",
      "531/531 - 25s - loss: 0.2039 - accuracy: 0.9170 - val_loss: 0.2705 - val_accuracy: 0.8914 - 25s/epoch - 47ms/step\n",
      "Epoch 3/5\n",
      "531/531 - 25s - loss: 0.1592 - accuracy: 0.9370 - val_loss: 0.2945 - val_accuracy: 0.8884 - 25s/epoch - 47ms/step\n",
      "Epoch 4/5\n",
      "531/531 - 25s - loss: 0.1162 - accuracy: 0.9539 - val_loss: 0.3306 - val_accuracy: 0.8741 - 25s/epoch - 47ms/step\n",
      "Epoch 5/5\n"
     ]
    }
   ],
   "source": [
    "# Training process\n",
    "# In addition, if we want to display accuracy in each model training process we can add a metrics parameter and fill it with the string 'accuracy'.\n",
    "num_epochs = 5\n",
    "history = model.fit(padded_train, recommendation_train, epochs=num_epochs, \n",
    "                    validation_data=(padded_test, recommendation_test), verbose=2)"
   ]
  },
  {
   "cell_type": "code",
   "execution_count": null,
   "metadata": {
    "execution": {
     "iopub.execute_input": "2023-07-14T14:26:23.087106Z",
     "iopub.status.busy": "2023-07-14T14:26:23.086731Z",
     "iopub.status.idle": "2023-07-14T14:26:23.274366Z",
     "shell.execute_reply": "2023-07-14T14:26:23.273251Z",
     "shell.execute_reply.started": "2023-07-14T14:26:23.087068Z"
    }
   },
   "outputs": [],
   "source": [
    "# Plotting training accuracy and validation accuracy\n",
    "import matplotlib.pyplot as plt\n",
    "plt.plot(history.history['accuracy'], 'r', label='Accuracy Training')\n",
    "plt.plot(history.history['val_accuracy'], 'b', label='Accuracy Validation')\n",
    "plt.title('Accuracy Training and Validation')\n",
    "plt.ylabel('Accuracy')\n",
    "plt.xlabel('Epoch')\n",
    "plt.legend(loc=0)\n",
    "plt.show()"
   ]
  },
  {
   "cell_type": "code",
   "execution_count": null,
   "metadata": {
    "execution": {
     "iopub.execute_input": "2023-07-14T14:26:23.276229Z",
     "iopub.status.busy": "2023-07-14T14:26:23.275851Z",
     "iopub.status.idle": "2023-07-14T14:26:23.464726Z",
     "shell.execute_reply": "2023-07-14T14:26:23.463716Z",
     "shell.execute_reply.started": "2023-07-14T14:26:23.276187Z"
    }
   },
   "outputs": [],
   "source": [
    "# Plotting training loss and validation loss\n",
    "import matplotlib.pyplot as plt\n",
    "plt.plot(history.history['loss'], 'r', label='Loss Training')\n",
    "plt.plot(history.history['val_loss'], 'b', label='Loss Validation')\n",
    "plt.title('Loss Training and Validation')\n",
    "plt.ylabel('Loss')\n",
    "plt.xlabel('Epoch')\n",
    "plt.legend(loc=0)\n",
    "plt.show()"
   ]
  },
  {
   "cell_type": "markdown",
   "metadata": {},
   "source": [
    "You can tinker with the Sequential Model part to get great results like adding the dropout() function."
   ]
  },
  {
   "cell_type": "code",
   "execution_count": null,
   "metadata": {
    "execution": {
     "iopub.execute_input": "2023-07-14T14:27:23.974250Z",
     "iopub.status.busy": "2023-07-14T14:27:23.973851Z",
     "iopub.status.idle": "2023-07-14T14:27:24.021872Z",
     "shell.execute_reply": "2023-07-14T14:27:24.020945Z",
     "shell.execute_reply.started": "2023-07-14T14:27:23.974211Z"
    }
   },
   "outputs": [],
   "source": [
    "from tensorflow.keras.preprocessing.sequence import pad_sequences\n",
    "\n",
    "# Tokenize and pad your review\n",
    "my_review = [\"dress is not good\"]\n",
    "result = tokenizer.texts_to_sequences(my_review)\n",
    "result = pad_sequences(result)\n",
    "\n",
    "# Make predictions\n",
    "predictions = model.predict(result)\n",
    "predicted_class = np.argmax(predictions, axis=-1)\n",
    "\n",
    "# Print recommendation\n",
    "if predicted_class == 0:\n",
    "    print('Not Recommended')\n",
    "elif predicted_class == 1:\n",
    "    print('Recommended')\n"
   ]
  },
  {
   "cell_type": "code",
   "execution_count": null,
   "metadata": {
    "execution": {
     "iopub.execute_input": "2023-07-14T14:28:01.277868Z",
     "iopub.status.busy": "2023-07-14T14:28:01.277402Z",
     "iopub.status.idle": "2023-07-14T14:28:01.330196Z",
     "shell.execute_reply": "2023-07-14T14:28:01.329241Z",
     "shell.execute_reply.started": "2023-07-14T14:28:01.277803Z"
    }
   },
   "outputs": [],
   "source": [
    "from tensorflow.keras.preprocessing.sequence import pad_sequences\n",
    "\n",
    "# Assuming tokenizer and model are already loaded\n",
    "my_review = [\"dress is good\"]\n",
    "result = tokenizer.texts_to_sequences(my_review)\n",
    "result = pad_sequences(result)\n",
    "\n",
    "# Make predictions\n",
    "predictions = model.predict(result)\n",
    "predicted_class = np.argmax(predictions, axis=-1)\n",
    "\n",
    "# Print recommendation\n",
    "if predicted_class == 0:\n",
    "    print('Not Recommended')\n",
    "elif predicted_class == 1:\n",
    "    print('Recommended')\n"
   ]
  },
  {
   "cell_type": "code",
   "execution_count": null,
   "metadata": {},
   "outputs": [],
   "source": []
  },
  {
   "cell_type": "code",
   "execution_count": null,
   "metadata": {},
   "outputs": [],
   "source": []
  },
  {
   "cell_type": "code",
   "execution_count": null,
   "metadata": {},
   "outputs": [],
   "source": []
  }
 ],
 "metadata": {
  "kernelspec": {
   "display_name": "Python 3 (ipykernel)",
   "language": "python",
   "name": "python3"
  },
  "language_info": {
   "codemirror_mode": {
    "name": "ipython",
    "version": 3
   },
   "file_extension": ".py",
   "mimetype": "text/x-python",
   "name": "python",
   "nbconvert_exporter": "python",
   "pygments_lexer": "ipython3",
   "version": "3.11.5"
  }
 },
 "nbformat": 4,
 "nbformat_minor": 4
}
