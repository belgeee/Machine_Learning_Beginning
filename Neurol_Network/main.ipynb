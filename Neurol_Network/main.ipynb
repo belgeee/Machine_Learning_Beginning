{
 "cells": [
  {
   "cell_type": "code",
   "execution_count": 2,
   "metadata": {},
   "outputs": [
    {
     "ename": "SyntaxError",
     "evalue": "Missing parentheses in call to 'print'. Did you mean print(...)? (1316288097.py, line 53)",
     "output_type": "error",
     "traceback": [
      "\u001b[0;36m  Cell \u001b[0;32mIn[2], line 53\u001b[0;36m\u001b[0m\n\u001b[0;31m    print \"node {0} has output {1} and error {2}\".format(node, DG.node[node]['o'], DG.node[node]['e'])\u001b[0m\n\u001b[0m    ^\u001b[0m\n\u001b[0;31mSyntaxError\u001b[0m\u001b[0;31m:\u001b[0m Missing parentheses in call to 'print'. Did you mean print(...)?\n"
     ]
    }
   ],
   "source": [
    "import networkx as nx\n",
    "import sys\n",
    "from math import tanh\n",
    "sys.path.append('pysrc')\n",
    "import neural_networks as nn\n",
    "from functools import partial\n",
    "\n",
    "DG = nx.DiGraph()\n",
    "DG.add_nodes_from(['X1','X2','H0','H1','H2','O1'])\n",
    "\n",
    "#set the activation functions\n",
    "DG.node['H0']['af']=1.0\n",
    "for node in ['H1','H2','O1']:\n",
    "    DG.node[node]['af']=tanh\n",
    "    \n",
    "#set the derivatives of the activation functions for all nodes except the output, this is done below\n",
    "def zero(x):\n",
    "    return 0\n",
    "for node in ['X1','X2','H0']: #the inputs and bias terms have zero derivatives\n",
    "    DG.node[node]['daf'] = zero\n",
    "def dtanh(x):\n",
    "    return 1.0 - tanh(x) * tanh(x)\n",
    "for node in ['H1','H2']:\n",
    "    DG.node[node]['daf']=dtanh\n",
    "    \n",
    "#create the edges\n",
    "for source in ['X1','X2']:\n",
    "    for target in ['H1','H2']:\n",
    "        DG.add_weighted_edges_from([(source,target,1.0)])\n",
    "for source in ['H0','H1','H2']:\n",
    "    DG.add_weighted_edges_from([(source, 'O1', 1.0)])\n",
    "    \n",
    "#set the input values\n",
    "DG.node['X1']['af']=0\n",
    "DG.node['X2']['af']=1\n",
    "\n",
    "#given these inputs, the correct output should be 1\n",
    "#we'll use a partial function so we can assign the correct 'daf' value\n",
    "#dynamically when we iteratively train the network\n",
    "def dout(x, t):\n",
    "    if x<0:\n",
    "        xx = 0\n",
    "    else:\n",
    "        xx = 1\n",
    "    return xx - t\n",
    "DG.node['O1']['daf']=partial(dout, t=1)\n",
    "\n",
    "nn.forward_prop(DG)\n",
    "\n",
    "nn.error_back_prop(DG)\n",
    "\n",
    "for node in ['X1','X2','H0','H1','H2','O1']:\n",
    "    print \"node {0} has output {1} and error {2}\".format(node, DG.node[node]['o'], DG.node[node]['e'])"
   ]
  }
 ],
 "metadata": {
  "kernelspec": {
   "display_name": "Python 3",
   "language": "python",
   "name": "python3"
  },
  "language_info": {
   "codemirror_mode": {
    "name": "ipython",
    "version": 3
   },
   "file_extension": ".py",
   "mimetype": "text/x-python",
   "name": "python",
   "nbconvert_exporter": "python",
   "pygments_lexer": "ipython3",
   "version": "3.12.1"
  }
 },
 "nbformat": 4,
 "nbformat_minor": 2
}
